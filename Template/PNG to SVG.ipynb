{
 "cells": [
  {
   "cell_type": "code",
   "execution_count": null,
   "id": "1eecafe7",
   "metadata": {},
   "outputs": [],
   "source": [
    "import base64\n",
    "\n",
    "def png_to_embedded_svg(png_path, svg_path):\n",
    "    # Read the PNG file and encode it to base64\n",
    "    with open(png_path, \"rb\") as image_file:\n",
    "        encoded_string = base64.b64encode(image_file.read()).decode('utf-8')\n",
    "    \n",
    "    # Create an SVG image that embeds the base64 PNG\n",
    "    svg_content = f\"\"\"<?xml version=\"1.0\" encoding=\"UTF-8\" standalone=\"no\"?>\n",
    "<svg xmlns=\"http://www.w3.org/2000/svg\" width=\"100%\" height=\"100%\" version=\"1.1\" viewBox=\"0 0 100 100\">\n",
    "    <image width=\"100\" height=\"100\" href=\"data:image/png;base64,{encoded_string}\"/>\n",
    "</svg>\n",
    "\"\"\"\n",
    "\n",
    "    # Write the SVG content to a file\n",
    "    with open(svg_path, \"w\") as svg_file:\n",
    "        svg_file.write(svg_content)\n",
    "\n",
    "# Usage\n",
    "png_path = 'original png file location'  # Change to your PNG file path\n",
    "svg_path = 'objective saving svg location'        # Desired output SVG file path\n",
    "png_to_embedded_svg(png_path, svg_path)"
   ]
  }
 ],
 "metadata": {
  "kernelspec": {
   "display_name": "Python 3 (ipykernel)",
   "language": "python",
   "name": "python3"
  },
  "language_info": {
   "codemirror_mode": {
    "name": "ipython",
    "version": 3
   },
   "file_extension": ".py",
   "mimetype": "text/x-python",
   "name": "python",
   "nbconvert_exporter": "python",
   "pygments_lexer": "ipython3",
   "version": "3.10.10"
  }
 },
 "nbformat": 4,
 "nbformat_minor": 5
}
